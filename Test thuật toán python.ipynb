{
 "cells": [
  {
   "cell_type": "markdown",
   "id": "35d337ef",
   "metadata": {},
   "source": [
    "### 1. Tìm dãy con tăng liên tiếp dài nhất của 1 mảng cho trước. Ví dụ: [4, 3, 3, 5, 7, 8, 2] => [3, 5, 7, 8]"
   ]
  },
  {
   "cell_type": "code",
   "execution_count": 11,
   "id": "407b40f3",
   "metadata": {},
   "outputs": [],
   "source": [
    "def q1(arr):\n",
    "    n = len(arr)\n",
    "    dp = [1]*n   #dp có độ dài bằng độ dài mảng ban đầu\n",
    "    for i in range(1,n):\n",
    "        for j in range(i):\n",
    "            if arr[i] > arr[j]:\n",
    "                dp[i] = max(dp[i], dp[j] + 1)  #độ dài của dãy con tăng dài nhất kết thúc tại vị trí i\n",
    "    max_length = max(dp)\n",
    "    index = dp.index(max_length)\n",
    "    lis = [arr[index]]\n",
    "    for i in range(index -1, -1, - 1):\n",
    "        if arr[i] < arr[index] and dp[i] == dp[index] - 1:\n",
    "            lis.append(arr[i])\n",
    "            index = i\n",
    "    lis.reverse()\n",
    "    return lis"
   ]
  },
  {
   "cell_type": "code",
   "execution_count": 12,
   "id": "2f50c3cc",
   "metadata": {},
   "outputs": [],
   "source": [
    "arr = [4, 3, 3, 5, 7, 8, 2]\n",
    "lis = q1(arr)"
   ]
  },
  {
   "cell_type": "code",
   "execution_count": 13,
   "id": "91d5bdb5",
   "metadata": {},
   "outputs": [
    {
     "data": {
      "text/plain": [
       "[3, 5, 7, 8]"
      ]
     },
     "execution_count": 13,
     "metadata": {},
     "output_type": "execute_result"
    }
   ],
   "source": [
    "lis"
   ]
  },
  {
   "cell_type": "markdown",
   "id": "7e83f60d",
   "metadata": {},
   "source": [
    "### 2. Cho 2 dãy con tăng liên tiếp, gộp 2 dãy thành 1 dãy con tăng liên tiếp O(N)\n",
    "### [1, 3, 5, 6, 9],\n",
    "### [2, 4, 6, 8, 10]\n",
    "### In ra: [1,2 ,3, 4, 5, 6, 7, 8, 9, 10]"
   ]
  },
  {
   "cell_type": "markdown",
   "id": "c5a452b6",
   "metadata": {},
   "source": [
    "#### Dùng Merge Sort:"
   ]
  },
  {
   "cell_type": "code",
   "execution_count": 23,
   "id": "4ee1361a",
   "metadata": {},
   "outputs": [],
   "source": [
    "def merge(a,b):\n",
    "    n,m = len(a), len(b)\n",
    "    c = [0]*(n+m)\n",
    "    i = j = k = 0\n",
    "    while i < n and j < m:\n",
    "        if a[i] <= b[j]:\n",
    "            c[k] = a[i]\n",
    "            i += 1\n",
    "        else:\n",
    "            c[k] = b[j]\n",
    "            j += 1\n",
    "        k += 1\n",
    "    while i < n:\n",
    "            c[k] = a[i]\n",
    "            i += 1\n",
    "            k += 1\n",
    "    while j < m:\n",
    "            c[k] = b[j]\n",
    "            j += 1\n",
    "            k += 1\n",
    "    return c"
   ]
  },
  {
   "cell_type": "code",
   "execution_count": 24,
   "id": "1af63ee1",
   "metadata": {},
   "outputs": [],
   "source": [
    "a = [1, 3, 5, 6, 9]\n",
    "b = [2, 4, 6, 8, 10]\n",
    "c = merge(a,b)"
   ]
  },
  {
   "cell_type": "code",
   "execution_count": 25,
   "id": "db31d382",
   "metadata": {},
   "outputs": [
    {
     "data": {
      "text/plain": [
       "[1, 2, 3, 4, 5, 6, 6, 8, 9, 10]"
      ]
     },
     "execution_count": 25,
     "metadata": {},
     "output_type": "execute_result"
    }
   ],
   "source": [
    "c"
   ]
  },
  {
   "cell_type": "markdown",
   "id": "ba5306e2",
   "metadata": {},
   "source": [
    "### 3. Có nhiều cách để mã hóa 1 chuỗi, trong đó có 1 cách như sau:\n",
    "### Khi dãy con S xuất hiện K lần trong một chuỗi, chúng ta dùng K(S) để hiển thị giá trị.\n",
    "\n",
    "### Ví dụ dãy hihihicohihihico = 2(3(hi)co) Hoặc hihihico = 3(hi)co\n",
    "\n",
    "\n",
    "### Input: 1 dãy S đã được mã hóa\n",
    "### Output: trả về dãy ở trạng thái chưa được mã hóa.\n",
    "### -Rằng buộc:\n",
    "### • Độ dài của S nằm trong khoảng 1 -> 100\n",
    "### • Dãy mã hóa chỉ bao gồm các số từ '0' -> '9', ngoặc '(', ')', và các kí tự thường (lower-case alphabet)\n",
    "### • Độ dài của chuỗi trả về từ 1 -> 1000\n",
    "\n",
    "\n",
    "### Example:\n",
    "### Input: 2(3(hi)co)\n",
    "### Output: hihihicohihihico"
   ]
  },
  {
   "cell_type": "markdown",
   "id": "7e476548",
   "metadata": {},
   "source": [
    "Tạo một ngăn xếp để lưu trữ các phần tử trong chuỗi. \n",
    "Khi gặp dấu '(', lưu trữ số lần lặp lại tiếp theo.\n",
    "Khi gặp dấu ')', bắt đầu xử lý phần tử ở đầu ngăn xếp và lưu trữ chúng vào chuỗi tạm thời.\n",
    "Đẩy chuỗi tạm thời vào ngăn xếp cho khi kết thúc vòng lặp."
   ]
  },
  {
   "cell_type": "code",
   "execution_count": 29,
   "id": "2e87bc83",
   "metadata": {},
   "outputs": [],
   "source": [
    "def q3(s: str) -> str:\n",
    "    stack = []\n",
    "    for c in s:\n",
    "        if c != ')':\n",
    "            stack.append(c)\n",
    "        else:\n",
    "            temp = \"\"\n",
    "            while stack[-1] != '(':\n",
    "                temp = stack.pop() + temp\n",
    "                \n",
    "            stack.pop()\n",
    "            \n",
    "            count_str = \"\"\n",
    "            while stack and stack[-1].isdigit():\n",
    "                count_str = stack.pop() + count_str\n",
    "            count = int(count_str)\n",
    "            \n",
    "            temp = temp * count\n",
    "            \n",
    "            stack.append(temp)\n",
    "    return \"\".join(stack)"
   ]
  },
  {
   "cell_type": "code",
   "execution_count": 30,
   "id": "a27203b9",
   "metadata": {},
   "outputs": [
    {
     "data": {
      "text/plain": [
       "'hihihicohihihico'"
      ]
     },
     "execution_count": 30,
     "metadata": {},
     "output_type": "execute_result"
    }
   ],
   "source": [
    "q3('2(3(hi)co)')"
   ]
  },
  {
   "cell_type": "code",
   "execution_count": null,
   "id": "62c7abd7",
   "metadata": {},
   "outputs": [],
   "source": []
  },
  {
   "cell_type": "code",
   "execution_count": 4,
   "id": "78fe81de",
   "metadata": {},
   "outputs": [
    {
     "name": "stdout",
     "output_type": "stream",
     "text": [
      "Dãy số A ngẫu nhiên là: [94, 18, 48, 13, 93, 45, 15, 48, 39, 56]\n"
     ]
    }
   ],
   "source": [
    "import random\n",
    "\n",
    "n = 10  # số phần tử của dãy A\n",
    "A = []  # khởi tạo dãy A rỗng\n",
    "\n",
    "# Sinh dãy A ngẫu nhiên\n",
    "for i in range(n):\n",
    "    A.append(random.randint(1, 100))\n",
    "\n",
    "print(\"Dãy số A ngẫu nhiên là:\", A)"
   ]
  },
  {
   "cell_type": "code",
   "execution_count": 34,
   "id": "fa08fafe",
   "metadata": {},
   "outputs": [],
   "source": [
    "B = sorted(A)"
   ]
  },
  {
   "cell_type": "code",
   "execution_count": 35,
   "id": "d26bd379",
   "metadata": {},
   "outputs": [
    {
     "data": {
      "text/plain": [
       "[6, 16, 19, 24, 38, 68, 90, 90, 95, 97]"
      ]
     },
     "execution_count": 35,
     "metadata": {},
     "output_type": "execute_result"
    }
   ],
   "source": [
    "B"
   ]
  },
  {
   "cell_type": "code",
   "execution_count": 38,
   "id": "1cc6aeed",
   "metadata": {},
   "outputs": [
    {
     "data": {
      "text/plain": [
       "[97, 95, 90, 90, 68, 38, 24, 19, 16, 6]"
      ]
     },
     "execution_count": 38,
     "metadata": {},
     "output_type": "execute_result"
    }
   ],
   "source": [
    "C = sorted(A, reverse = True)\n",
    "C"
   ]
  },
  {
   "cell_type": "code",
   "execution_count": 39,
   "id": "d4756a1b",
   "metadata": {},
   "outputs": [
    {
     "data": {
      "text/plain": [
       "10"
      ]
     },
     "execution_count": 39,
     "metadata": {},
     "output_type": "execute_result"
    }
   ],
   "source": [
    "len(B)"
   ]
  },
  {
   "cell_type": "code",
   "execution_count": 42,
   "id": "f3e2249d",
   "metadata": {},
   "outputs": [],
   "source": [
    "def linearSearch(A,K):\n",
    "    for i in range (len(A)):\n",
    "        if A[i] == K:\n",
    "            return i\n",
    "    return -1"
   ]
  },
  {
   "cell_type": "code",
   "execution_count": 44,
   "id": "6999852f",
   "metadata": {},
   "outputs": [
    {
     "data": {
      "text/plain": [
       "2"
      ]
     },
     "execution_count": 44,
     "metadata": {},
     "output_type": "execute_result"
    }
   ],
   "source": [
    "linearSearch(A, 90)"
   ]
  },
  {
   "cell_type": "code",
   "execution_count": 49,
   "id": "b283b8fb",
   "metadata": {},
   "outputs": [],
   "source": [
    "def sentinel(A,K):\n",
    "    A.append(K)\n",
    "    n = len(A)\n",
    "    i = 0\n",
    "    while A[i] != K:\n",
    "        i = i+1\n",
    "    if i < n:\n",
    "        return i\n",
    "    else:\n",
    "        return -1"
   ]
  },
  {
   "cell_type": "code",
   "execution_count": 51,
   "id": "cf6815a6",
   "metadata": {},
   "outputs": [
    {
     "data": {
      "text/plain": [
       "13"
      ]
     },
     "execution_count": 51,
     "metadata": {},
     "output_type": "execute_result"
    }
   ],
   "source": [
    "sentinel(A,29)"
   ]
  },
  {
   "cell_type": "code",
   "execution_count": 15,
   "id": "29e2aa86",
   "metadata": {},
   "outputs": [
    {
     "data": {
      "text/plain": [
       "[94, 18, 48, 13, 93, 45, 15, 48, 39, 56]"
      ]
     },
     "execution_count": 15,
     "metadata": {},
     "output_type": "execute_result"
    }
   ],
   "source": [
    "A"
   ]
  },
  {
   "cell_type": "code",
   "execution_count": 18,
   "id": "f30327a7",
   "metadata": {},
   "outputs": [],
   "source": [
    "A = sorted(A)"
   ]
  },
  {
   "cell_type": "code",
   "execution_count": 19,
   "id": "51e1ad06",
   "metadata": {},
   "outputs": [
    {
     "data": {
      "text/plain": [
       "[13, 15, 18, 39, 45, 48, 48, 56, 93, 94]"
      ]
     },
     "execution_count": 19,
     "metadata": {},
     "output_type": "execute_result"
    }
   ],
   "source": [
    "A"
   ]
  },
  {
   "cell_type": "code",
   "execution_count": 20,
   "id": "6edae3c0",
   "metadata": {},
   "outputs": [],
   "source": [
    "def jumpSearch(A,K):\n",
    "    n = len(A)\n",
    "    d = int(n**0.5)\n",
    "    i = 0\n",
    "    j = i + d\n",
    "    while j < n and A[j] < K:\n",
    "        j = j + d\n",
    "        i = i + d\n",
    "    if j >=n:\n",
    "        j = n -1\n",
    "    while A[i] < K:\n",
    "        i = i + 1\n",
    "        if i >= n or i > j:\n",
    "            return -1\n",
    "    if A[i] == K:\n",
    "        return i\n",
    "    else:\n",
    "        return -1"
   ]
  },
  {
   "cell_type": "code",
   "execution_count": 21,
   "id": "2f4ee6d7",
   "metadata": {},
   "outputs": [
    {
     "data": {
      "text/plain": [
       "8"
      ]
     },
     "execution_count": 21,
     "metadata": {},
     "output_type": "execute_result"
    }
   ],
   "source": [
    "jumpSearch(A, 93)"
   ]
  },
  {
   "cell_type": "code",
   "execution_count": null,
   "id": "6a9d3f95",
   "metadata": {},
   "outputs": [],
   "source": []
  }
 ],
 "metadata": {
  "kernelspec": {
   "display_name": "Python 3 (ipykernel)",
   "language": "python",
   "name": "python3"
  },
  "language_info": {
   "codemirror_mode": {
    "name": "ipython",
    "version": 3
   },
   "file_extension": ".py",
   "mimetype": "text/x-python",
   "name": "python",
   "nbconvert_exporter": "python",
   "pygments_lexer": "ipython3",
   "version": "3.9.7"
  }
 },
 "nbformat": 4,
 "nbformat_minor": 5
}
